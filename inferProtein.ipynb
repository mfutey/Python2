{
 "cells": [
  {
   "cell_type": "code",
   "execution_count": 15,
   "metadata": {},
   "outputs": [],
   "source": [
    "#Inferring Protein from Spectrum \n",
    "#http://rosalind.info/problems/spec/\n",
    "\n",
    "# The prefix spectrum of a weighted string is the \n",
    "# collection of all its prefix weights.\n",
    "\n",
    "# Given: A list L of n (n≤100) positive real numbers.\n",
    "\n",
    "# Return: A protein string of length n−1 \n",
    "# whose prefix spectrum is equal to L "
   ]
  },
  {
   "cell_type": "code",
   "execution_count": 20,
   "metadata": {},
   "outputs": [],
   "source": [
    "#need to find difference between L[n+1] - L[n] and round to thousanths \n",
    "L = [3524.8542, 3710.9335, 3841.974, 3970.0326, 4057.0646]\n",
    "\n",
    "aa_masses = {\"A\" : 71.03711, \"C\" : 103.00919, \"D\" : 115.02694, \"E\" : 129.04259,\n",
    " \"F\" : 147.06841, \"G\" : 57.02146, \"H\" : 137.05891, \"I\" : 113.08406,\n",
    " \"K\" : 128.09496, \"L\" : 113.08406, \"M\" : 131.04049, \"N\" : 114.04293,\n",
    " \"P\" : 97.05276, \"Q\" : 128.05858, \"R\" : 156.10111, \"S\" : 87.03203,\n",
    " \"T\" : 101.04768, \"V\" : 99.06841, \"W\" : 186.07931, \"Y\" : 163.06333}\n",
    "\n",
    "\n",
    "def infer(L):\n",
    "    masses = []\n",
    "    #range 5 would start with 0 -> 5, returning a len of 6: subtract 1\n",
    "    for n in range(len(L) - 1):\n",
    "        mass = (L[n+1] - L[n])\n",
    "        for k, v in aa_masses.items():\n",
    "            if round(v, 4) == round(mass, 4):\n",
    "                    masses.append(k)\n",
    "        masses_string = ''.join(masses)\n",
    "    return masses_string\n"
   ]
  },
  {
   "cell_type": "code",
   "execution_count": 21,
   "metadata": {},
   "outputs": [
    {
     "data": {
      "text/plain": [
       "'WMQS'"
      ]
     },
     "execution_count": 21,
     "metadata": {},
     "output_type": "execute_result"
    }
   ],
   "source": [
    "infer(L)"
   ]
  },
  {
   "cell_type": "code",
   "execution_count": null,
   "metadata": {},
   "outputs": [],
   "source": []
  }
 ],
 "metadata": {
  "kernelspec": {
   "display_name": "Python 3",
   "language": "python",
   "name": "python3"
  },
  "language_info": {
   "codemirror_mode": {
    "name": "ipython",
    "version": 3
   },
   "file_extension": ".py",
   "mimetype": "text/x-python",
   "name": "python",
   "nbconvert_exporter": "python",
   "pygments_lexer": "ipython3",
   "version": "3.7.3"
  }
 },
 "nbformat": 4,
 "nbformat_minor": 4
}
