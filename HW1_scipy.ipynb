{
 "cells": [
  {
   "cell_type": "code",
   "execution_count": 13,
   "metadata": {},
   "outputs": [
    {
     "name": "stdout",
     "output_type": "stream",
     "text": [
      "Isocitrate lyase Q8NJ72 contains its active site PS00161 starting from 370 position: stnKKCGHMagr\n"
     ]
    }
   ],
   "source": [
    "import re\n",
    "with open(\"/Users/maryfutey/Desktop/Classes/Python_sem2/ICL1.fasta\") as fasta:\n",
    "    fst = fasta.readlines()\n",
    "newline=[]\n",
    "for i in fst:\n",
    "    newline.append(i.strip())\n",
    "\n",
    "aa =\"\".join(newline)\n",
    "search_result = re.search('(\\w{3})(K(K|R)CGH(L|M|Q|R))(\\w{3})', aa)\n",
    "match = search_result[0]\n",
    "group1 = search_result.group(1)\n",
    "group2 = search_result.group(2)\n",
    "group3 = search_result.group(5)\n",
    "final_group = group1.lower()+group2+group3.lower()\n",
    "start = search_result.start(+2)\n",
    "\n",
    "print(\"Isocitrate lyase\", re.findall('\\|(.*)\\|', aa)[0], \n",
    "      \"contains its active site PS00161\" ,\"starting from\", start,\n",
    "      \"position:\", final_group )\n",
    "\n"
   ]
  },
  {
   "cell_type": "code",
   "execution_count": null,
   "metadata": {},
   "outputs": [],
   "source": []
  }
 ],
 "metadata": {
  "kernelspec": {
   "display_name": "Python 3",
   "language": "python",
   "name": "python3"
  },
  "language_info": {
   "codemirror_mode": {
    "name": "ipython",
    "version": 3
   },
   "file_extension": ".py",
   "mimetype": "text/x-python",
   "name": "python",
   "nbconvert_exporter": "python",
   "pygments_lexer": "ipython3",
   "version": "3.7.3"
  }
 },
 "nbformat": 4,
 "nbformat_minor": 4
}
