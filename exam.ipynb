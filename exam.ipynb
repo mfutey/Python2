{
 "cells": [
  {
   "cell_type": "code",
   "execution_count": 17,
   "metadata": {},
   "outputs": [],
   "source": [
    "import pandas as pd\n",
    "import seaborn as sns\n",
    "import matplotlib.pyplot as plt\n",
    "\n",
    "\n",
    "# load data\n",
    "SAMPLES_INFO = pd.read_csv('/Users/maryfutey/downloads/metabolites.csv')\n"
   ]
  },
  {
   "cell_type": "code",
   "execution_count": 18,
   "metadata": {},
   "outputs": [
    {
     "data": {
      "text/html": [
       "<div>\n",
       "<style scoped>\n",
       "    .dataframe tbody tr th:only-of-type {\n",
       "        vertical-align: middle;\n",
       "    }\n",
       "\n",
       "    .dataframe tbody tr th {\n",
       "        vertical-align: top;\n",
       "    }\n",
       "\n",
       "    .dataframe thead th {\n",
       "        text-align: right;\n",
       "    }\n",
       "</style>\n",
       "<table border=\"1\" class=\"dataframe\">\n",
       "  <thead>\n",
       "    <tr style=\"text-align: right;\">\n",
       "      <th></th>\n",
       "      <th>sucrose</th>\n",
       "      <th>alanin</th>\n",
       "      <th>citrate</th>\n",
       "      <th>glucose</th>\n",
       "      <th>oleic_acid</th>\n",
       "    </tr>\n",
       "    <tr>\n",
       "      <th>genus</th>\n",
       "      <th></th>\n",
       "      <th></th>\n",
       "      <th></th>\n",
       "      <th></th>\n",
       "      <th></th>\n",
       "    </tr>\n",
       "  </thead>\n",
       "  <tbody>\n",
       "    <tr>\n",
       "      <th>Ascophyllum</th>\n",
       "      <td>6.825467</td>\n",
       "      <td>0.875429</td>\n",
       "      <td>5.253527</td>\n",
       "      <td>3.414961</td>\n",
       "      <td>2.432526</td>\n",
       "    </tr>\n",
       "    <tr>\n",
       "      <th>Cladophora</th>\n",
       "      <td>4.008792</td>\n",
       "      <td>3.997055</td>\n",
       "      <td>5.288311</td>\n",
       "      <td>2.800276</td>\n",
       "      <td>2.263472</td>\n",
       "    </tr>\n",
       "    <tr>\n",
       "      <th>Fucus</th>\n",
       "      <td>4.355112</td>\n",
       "      <td>3.566411</td>\n",
       "      <td>4.214878</td>\n",
       "      <td>2.814803</td>\n",
       "      <td>3.367647</td>\n",
       "    </tr>\n",
       "    <tr>\n",
       "      <th>Palmaria</th>\n",
       "      <td>0.704580</td>\n",
       "      <td>3.176440</td>\n",
       "      <td>5.573905</td>\n",
       "      <td>3.242090</td>\n",
       "      <td>2.245538</td>\n",
       "    </tr>\n",
       "    <tr>\n",
       "      <th>Saccharina</th>\n",
       "      <td>4.183596</td>\n",
       "      <td>3.524207</td>\n",
       "      <td>3.346710</td>\n",
       "      <td>4.980594</td>\n",
       "      <td>4.487252</td>\n",
       "    </tr>\n",
       "  </tbody>\n",
       "</table>\n",
       "</div>"
      ],
      "text/plain": [
       "              sucrose    alanin   citrate   glucose  oleic_acid\n",
       "genus                                                          \n",
       "Ascophyllum  6.825467  0.875429  5.253527  3.414961    2.432526\n",
       "Cladophora   4.008792  3.997055  5.288311  2.800276    2.263472\n",
       "Fucus        4.355112  3.566411  4.214878  2.814803    3.367647\n",
       "Palmaria     0.704580  3.176440  5.573905  3.242090    2.245538\n",
       "Saccharina   4.183596  3.524207  3.346710  4.980594    4.487252"
      ]
     },
     "execution_count": 18,
     "metadata": {},
     "output_type": "execute_result"
    }
   ],
   "source": [
    "# group by genus and get mean\n",
    "\n",
    "df1 = SAMPLES_INFO.groupby('genus').mean()\n",
    "df1\n"
   ]
  },
  {
   "cell_type": "code",
   "execution_count": 19,
   "metadata": {},
   "outputs": [
    {
     "data": {
      "text/plain": [
       "<bound method NDFrame.head of           genus    variable     value\n",
       "0   Ascophyllum     sucrose  6.825467\n",
       "1    Cladophora     sucrose  4.008792\n",
       "2         Fucus     sucrose  4.355112\n",
       "3      Palmaria     sucrose  0.704580\n",
       "4    Saccharina     sucrose  4.183596\n",
       "5   Ascophyllum      alanin  0.875429\n",
       "6    Cladophora      alanin  3.997055\n",
       "7         Fucus      alanin  3.566411\n",
       "8      Palmaria      alanin  3.176440\n",
       "9    Saccharina      alanin  3.524207\n",
       "10  Ascophyllum     citrate  5.253527\n",
       "11   Cladophora     citrate  5.288311\n",
       "12        Fucus     citrate  4.214878\n",
       "13     Palmaria     citrate  5.573905\n",
       "14   Saccharina     citrate  3.346710\n",
       "15  Ascophyllum     glucose  3.414961\n",
       "16   Cladophora     glucose  2.800276\n",
       "17        Fucus     glucose  2.814803\n",
       "18     Palmaria     glucose  3.242090\n",
       "19   Saccharina     glucose  4.980594\n",
       "20  Ascophyllum  oleic_acid  2.432526\n",
       "21   Cladophora  oleic_acid  2.263472\n",
       "22        Fucus  oleic_acid  3.367647\n",
       "23     Palmaria  oleic_acid  2.245538\n",
       "24   Saccharina  oleic_acid  4.487252>"
      ]
     },
     "execution_count": 19,
     "metadata": {},
     "output_type": "execute_result"
    }
   ],
   "source": [
    "# reset index and melt to make long format \n",
    "\n",
    "df1.reset_index(inplace=True)  \n",
    "df1\n",
    "\n",
    "melt_df1 = pd.melt(                                 \n",
    "    frame = df1,\n",
    "    id_vars = \"genus\")\n",
    "melt_df1.head"
   ]
  },
  {
   "cell_type": "code",
   "execution_count": 20,
   "metadata": {},
   "outputs": [
    {
     "data": {
      "image/png": "[encoded data removed]",
      "text/plain": [
       "<Figure size 448.725x360 with 1 Axes>"
      ]
     },
     "metadata": {},
     "output_type": "display_data"
    },
    {
     "data": {
      "text/plain": [
       "<seaborn.axisgrid.FacetGrid at 0x1a225d6358>"
      ]
     },
     "execution_count": 20,
     "metadata": {},
     "output_type": "execute_result"
    }
   ],
   "source": [
    "# sns plt\n",
    "\n",
    "sns.set()\n",
    "\n",
    "p1 = sns.catplot(x = \"genus\", y = \"value\",\n",
    "                hue = \"variable\", kind = \"bar\",\n",
    "                data = melt_df1)\n",
    "plt.show()\n",
    "p1\n"
   ]
  },
  {
   "cell_type": "code",
   "execution_count": 28,
   "metadata": {},
   "outputs": [],
   "source": [
    "import urllib3\n",
    "import json\n",
    "import sys\n"
   ]
  },
  {
   "cell_type": "code",
   "execution_count": 30,
   "metadata": {},
   "outputs": [
    {
     "name": "stderr",
     "output_type": "stream",
     "text": [
      "//miniconda3/lib/python3.7/site-packages/urllib3/connectionpool.py:847: InsecureRequestWarning: Unverified HTTPS request is being made. Adding certificate verification is strongly advised. See: https://urllib3.readthedocs.io/en/latest/advanced-usage.html#ssl-warnings\n",
      "  InsecureRequestWarning)\n"
     ]
    },
    {
     "name": "stdout",
     "output_type": "stream",
     "text": [
      "17\n",
      "math\n"
     ]
    },
    {
     "name": "stderr",
     "output_type": "stream",
     "text": [
      "//miniconda3/lib/python3.7/site-packages/urllib3/connectionpool.py:847: InsecureRequestWarning: Unverified HTTPS request is being made. Adding certificate verification is strongly advised. See: https://urllib3.readthedocs.io/en/latest/advanced-usage.html#ssl-warnings\n",
      "  InsecureRequestWarning)\n"
     ]
    },
    {
     "name": "stdout",
     "output_type": "stream",
     "text": [
      "45\n",
      "math\n"
     ]
    },
    {
     "name": "stderr",
     "output_type": "stream",
     "text": [
      "//miniconda3/lib/python3.7/site-packages/urllib3/connectionpool.py:847: InsecureRequestWarning: Unverified HTTPS request is being made. Adding certificate verification is strongly advised. See: https://urllib3.readthedocs.io/en/latest/advanced-usage.html#ssl-warnings\n",
      "  InsecureRequestWarning)\n",
      "//miniconda3/lib/python3.7/site-packages/urllib3/connectionpool.py:847: InsecureRequestWarning: Unverified HTTPS request is being made. Adding certificate verification is strongly advised. See: https://urllib3.readthedocs.io/en/latest/advanced-usage.html#ssl-warnings\n",
      "  InsecureRequestWarning)\n"
     ]
    },
    {
     "name": "stdout",
     "output_type": "stream",
     "text": [
      "1883\n",
      "math\n"
     ]
    }
   ],
   "source": [
    "numbers = [17, 45, 999, 1883]\n",
    "\n",
    "#http://numbersapi.com/5/math\n",
    "\n",
    "\n",
    "def fun_facts_getter(number):\n",
    "\n",
    "    end_point = \"https://numbersapi.p.rapidapi.com/\" + str(number) + \"/math?json=true\"\n",
    "\n",
    "    headers = {\n",
    "\t\"x-rapidapi-host\": \"numbersapi.p.rapidapi.com\",\n",
    "\t\"x-rapidapi-key\": \"9ff7b06ca4mshb371c0c21562b02p1cdda7jsn4a96f859a4f5\",\n",
    "\t\"useQueryString\": True\n",
    "    }\n",
    "\n",
    "    try:\n",
    "        http = urllib3.PoolManager()\n",
    "        r = http.request('GET', end_point, headers=headers)\n",
    "        d_response = json.loads(r.data)\n",
    "        \n",
    "        if d_response.get(\"found\") == True:\n",
    "\n",
    "            print(d_response.get(\"number\"))\n",
    "            print(d_response.get(\"type\"))\n",
    "\n",
    "\n",
    "    except urllib3.exceptions.HTTPError as e:\n",
    "        print('We failed with error code - %s.' % e)\n",
    "        print('Going away...')\n",
    "        sys.exit(2)\n",
    "\n",
    "\n",
    "for number in numbers:\n",
    "    fun_facts_getter(number)"
   ]
  },
  {
   "cell_type": "code",
   "execution_count": null,
   "metadata": {},
   "outputs": [],
   "source": []
  }
 ],
 "metadata": {
  "kernelspec": {
   "display_name": "Python 3",
   "language": "python",
   "name": "python3"
  },
  "language_info": {
   "codemirror_mode": {
    "name": "ipython",
    "version": 3
   },
   "file_extension": ".py",
   "mimetype": "text/x-python",
   "name": "python",
   "nbconvert_exporter": "python",
   "pygments_lexer": "ipython3",
   "version": "3.7.3"
  }
 },
 "nbformat": 4,
 "nbformat_minor": 4
}
